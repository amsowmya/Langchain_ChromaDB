{
 "cells": [
  {
   "cell_type": "code",
   "execution_count": 1,
   "metadata": {},
   "outputs": [
    {
     "data": {
      "text/plain": [
       "True"
      ]
     },
     "execution_count": 1,
     "metadata": {},
     "output_type": "execute_result"
    }
   ],
   "source": [
    "import os\n",
    "from langchain_community.document_loaders import PyPDFLoader\n",
    "from langchain.text_splitter import RecursiveCharacterTextSplitter\n",
    "from langchain_openai.embeddings import AzureOpenAIEmbeddings\n",
    "from langchain_community.vectorstores import Chroma\n",
    "from langchain_openai.chat_models import AzureChatOpenAI\n",
    "from langchain.chains.question_answering import load_qa_chain\n",
    "from dotenv import load_dotenv\n",
    "\n",
    "load_dotenv()"
   ]
  },
  {
   "cell_type": "code",
   "execution_count": 2,
   "metadata": {},
   "outputs": [],
   "source": [
    "AZURE_OPENAI_API_KEY = os.getenv('AZURE_OPENAI_API_KEY')"
   ]
  },
  {
   "cell_type": "code",
   "execution_count": 3,
   "metadata": {},
   "outputs": [
    {
     "data": {
      "text/plain": [
       "65"
      ]
     },
     "execution_count": 3,
     "metadata": {},
     "output_type": "execute_result"
    }
   ],
   "source": [
    "directory = \"E:\\\\2024_GenAI\\\\LANGCHAIN\\\\Langchain_Chroma\\\\data\\\\Canada.pdf\"\n",
    "\n",
    "def load_docs(directory):\n",
    "    loader = PyPDFLoader(directory)\n",
    "    documents = loader.load()\n",
    "    return documents\n",
    "\n",
    "documents = load_docs(directory)\n",
    "len(documents)"
   ]
  },
  {
   "cell_type": "code",
   "execution_count": 4,
   "metadata": {},
   "outputs": [
    {
     "data": {
      "text/plain": [
       "517"
      ]
     },
     "execution_count": 4,
     "metadata": {},
     "output_type": "execute_result"
    }
   ],
   "source": [
    "def split_docs(documents, chunk_size=500, chunk_overlap=50):\n",
    "    text_splitter = RecursiveCharacterTextSplitter(chunk_size=chunk_size, chunk_overlap=chunk_overlap)\n",
    "    docs = text_splitter.split_documents(documents)\n",
    "    return docs\n",
    "\n",
    "docs = split_docs(documents)\n",
    "len(docs)"
   ]
  },
  {
   "cell_type": "code",
   "execution_count": 5,
   "metadata": {},
   "outputs": [],
   "source": [
    "embedding = AzureOpenAIEmbeddings(\n",
    "    api_key=AZURE_OPENAI_API_KEY,\n",
    "    azure_deployment='vector-search-instance2',\n",
    "    azure_endpoint='https://cb-att-openai-instance.openai.azure.com/',\n",
    "    api_version='2024-02-15-preview'\n",
    ")"
   ]
  },
  {
   "cell_type": "code",
   "execution_count": 6,
   "metadata": {},
   "outputs": [],
   "source": [
    "persist_directory = 'chroma_db'\n",
    "\n",
    "vectordb = Chroma.from_documents(documents=docs, embedding=embedding, persist_directory=persist_directory)"
   ]
  },
  {
   "cell_type": "code",
   "execution_count": 7,
   "metadata": {},
   "outputs": [],
   "source": [
    "vectordb.persist()"
   ]
  },
  {
   "cell_type": "code",
   "execution_count": 8,
   "metadata": {},
   "outputs": [],
   "source": [
    "llm = AzureChatOpenAI(\n",
    "    api_key=AZURE_OPENAI_API_KEY,\n",
    "    azure_deployment='atttestgpt35turbo',\n",
    "    azure_endpoint='https://cb-att-openai-instance.openai.azure.com/',\n",
    "    api_version='2024-02-15-preview'   \n",
    ")"
   ]
  },
  {
   "cell_type": "code",
   "execution_count": 9,
   "metadata": {},
   "outputs": [],
   "source": [
    "chroma_db = Chroma(persist_directory=persist_directory, embedding_function=embedding)"
   ]
  },
  {
   "cell_type": "code",
   "execution_count": 11,
   "metadata": {},
   "outputs": [
    {
     "data": {
      "text/plain": [
       "[Document(page_content=\"has also produc ed one of the world's most successful and widely\\nused soundi ng rockets, the Black Brant.[322]\\nThe 2021 Canadian census enumerated a total\\npopul ation of 36,991,981, an increase of around 5.2\\npercent over the 2016 figure.[324] It is estimated that\\nCanada's popul ation surpassed 40,000,000 in 2023.[325]\\nThe main drivers of popul ation growth are immigration\\nand, to a lesser extent, natural growth.[326] Canada has\\none of the highest per-capita immigration rates in the\", metadata={'page': 16, 'source': 'E:\\\\2024_GenAI\\\\LANGCHAIN\\\\Langchain_Chroma\\\\data\\\\Canada.pdf'}),\n",
       " Document(page_content=\"tion_and_demography/40-million). Statistics Canada. June 16, 2023. Retrieved\\nSeptember 7, 2023.\\n326. Edmonston, Barry; Fong, Eric (2011). The Changing Canadian Population (https://books.goo\\ngle.com/books?id=VVYOgvFPvBEC&pg=PA181). McGill-Queen's University Press. p. 181.\\nISBN 978-0-7735-3793-4.\\n327. Zimmerman, Karla (2008). Canada (https://books.google.com/books?id=kv4nlSWLT8UC&pg\\n=PA51) (10th ed.). Lonely Planet. p. 51. ISBN 978-1-74104-571-0.\", metadata={'page': 50, 'source': 'E:\\\\2024_GenAI\\\\LANGCHAIN\\\\Langchain_Chroma\\\\data\\\\Canada.pdf'})]"
      ]
     },
     "execution_count": 11,
     "metadata": {},
     "output_type": "execute_result"
    }
   ],
   "source": [
    "chroma_db.similarity_search(\"what is the population in canada\", k=2)"
   ]
  },
  {
   "cell_type": "code",
   "execution_count": 14,
   "metadata": {},
   "outputs": [],
   "source": [
    "chain = load_qa_chain(llm=llm, chain_type=\"stuff\", verbose=True)"
   ]
  },
  {
   "cell_type": "code",
   "execution_count": 15,
   "metadata": {},
   "outputs": [
    {
     "name": "stdout",
     "output_type": "stream",
     "text": [
      "\n",
      "\n",
      "\u001b[1m> Entering new StuffDocumentsChain chain...\u001b[0m\n",
      "\n",
      "\n",
      "\u001b[1m> Entering new LLMChain chain...\u001b[0m\n",
      "Prompt after formatting:\n",
      "\u001b[32;1m\u001b[1;3mSystem: Use the following pieces of context to answer the user's question. \n",
      "If you don't know the answer, just say that you don't know, don't try to make up an answer.\n",
      "----------------\n",
      "has also produc ed one of the world's most successful and widely\n",
      "used soundi ng rockets, the Black Brant.[322]\n",
      "The 2021 Canadian census enumerated a total\n",
      "popul ation of 36,991,981, an increase of around 5.2\n",
      "percent over the 2016 figure.[324] It is estimated that\n",
      "Canada's popul ation surpassed 40,000,000 in 2023.[325]\n",
      "The main drivers of popul ation growth are immigration\n",
      "and, to a lesser extent, natural growth.[326] Canada has\n",
      "one of the highest per-capita immigration rates in the\n",
      "\n",
      "tion_and_demography/40-million). Statistics Canada. June 16, 2023. Retrieved\n",
      "September 7, 2023.\n",
      "326. Edmonston, Barry; Fong, Eric (2011). The Changing Canadian Population (https://books.goo\n",
      "gle.com/books?id=VVYOgvFPvBEC&pg=PA181). McGill-Queen's University Press. p. 181.\n",
      "ISBN 978-0-7735-3793-4.\n",
      "327. Zimmerman, Karla (2008). Canada (https://books.google.com/books?id=kv4nlSWLT8UC&pg\n",
      "=PA51) (10th ed.). Lonely Planet. p. 51. ISBN 978-1-74104-571-0.\n",
      "\n",
      "323. \"Section 4: Maps\" (https://www150.statcan.gc.ca/n1/pub/91-214-x/2015000/section04-eng.ht\n",
      "m). Statistics Canada. February 11, 2015. Retrieved July 23, 2023.\n",
      "324. Zimonjic, Peter (February 9, 2022). \"Despite pandemic, Canada's population grows at\n",
      "fastest rate in G7: census\" (https://www.cbc.ca/news/politics/census-2021-release-populatio\n",
      "n-cities-1.6344179). CBC News.\n",
      "325. \"Canada's population reaches 40 million\" (https://www.statcan.gc.ca/en/subjects-start/popula\n",
      "Human: what is the population in canada?\u001b[0m\n",
      "\n",
      "\u001b[1m> Finished chain.\u001b[0m\n",
      "\n",
      "\u001b[1m> Finished chain.\u001b[0m\n"
     ]
    },
    {
     "data": {
      "text/plain": [
       "\"According to the latest data available, the population of Canada was 36,991,981 in 2021. It is estimated that Canada's population surpassed 40,000,000 in 2023.\""
      ]
     },
     "execution_count": 15,
     "metadata": {},
     "output_type": "execute_result"
    }
   ],
   "source": [
    "question = \"what is the population in canada?\"\n",
    "matching_result = chroma_db.similarity_search(question, k=3)\n",
    "\n",
    "result = chain.run(input_documents=matching_result, question=question)\n",
    "result"
   ]
  },
  {
   "cell_type": "code",
   "execution_count": null,
   "metadata": {},
   "outputs": [],
   "source": []
  }
 ],
 "metadata": {
  "kernelspec": {
   "display_name": "langchain",
   "language": "python",
   "name": "python3"
  },
  "language_info": {
   "codemirror_mode": {
    "name": "ipython",
    "version": 3
   },
   "file_extension": ".py",
   "mimetype": "text/x-python",
   "name": "python",
   "nbconvert_exporter": "python",
   "pygments_lexer": "ipython3",
   "version": "3.9.0"
  }
 },
 "nbformat": 4,
 "nbformat_minor": 2
}
